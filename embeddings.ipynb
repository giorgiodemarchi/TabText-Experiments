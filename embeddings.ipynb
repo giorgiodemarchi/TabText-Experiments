{
 "cells": [
  {
   "cell_type": "code",
   "execution_count": null,
   "metadata": {},
   "outputs": [],
   "source": [
    "\n",
    "\n",
    "# Load config file with static parameters\n",
    "with open(os.path.dirname(__file__) + '/../../config.json') as config_file:\n",
    "        config = json.load(config_file)\n",
    "\n",
    "biobert_path = config[\"BIOBERT_PATH\"]\n",
    "long_biobert_path = config[\"LONG_BIOBERT_PATH\"]\n",
    "\n",
    "\n",
    "def get_biobert_embeddings(text, long_input=True):\n",
    "    \"\"\"\n",
    "    Parameters::\n",
    "        text: String with input text\n",
    "        long_input: Boolean indicating weather to use Clinical LongFormer or Clinical Bert.\n",
    "\n",
    "    Returns::\n",
    "        embeddings: Final Biobert embeddings with vector dimensionality = (1,768)\n",
    "        hidden_embeddings: Last hidden layer in Biobert model with vector dimensionality = (token_size, 768)\n",
    "    \"\"\"\n",
    "\n",
    "    biobert_tokenizer = AutoTokenizer.from_pretrained(long_biobert_path + \"tokenizer/\")\n",
    "    biobert_model = AutoModelForMaskedLM.from_pretrained(long_biobert_path + 'model', output_hidden_states=True)\n",
    "    tokens_pt = biobert_tokenizer(text, return_tensors=\"pt\")\n",
    "\n",
    "    if not long_input:\n",
    "        biobert_tokenizer = AutoTokenizer.from_pretrained(biobert_path)\n",
    "        biobert_model = AutoModel.from_pretrained(biobert_path)\n",
    "        tokens_pt = biobert_tokenizer(text, return_tensors=\"pt\")\n",
    "\n",
    "    outputs = biobert_model(**tokens_pt)\n",
    "\n",
    "    if long_input:\n",
    "        hidden_embeddings = outputs.hidden_states[-1].detach().numpy()\n",
    "        last_hidden_shape = hidden_embeddings.shape\n",
    "        pooling = torch.nn.AvgPool2d([last_hidden_shape[1], 1])\n",
    "        embeddings = pooling(outputs.hidden_states[-1])\n",
    "        embeddings = torch.reshape(embeddings, (1, 768)).detach().numpy()\n",
    "    else:\n",
    "        last_hidden_state = outputs.last_hidden_state\n",
    "        pooler_output = outputs.pooler_output\n",
    "        hidden_embeddings = last_hidden_state.detach().numpy()\n",
    "        embeddings = pooler_output.detach().numpy()\n",
    "\n",
    "    return embeddings, hidden_embeddings\n",
    "\n",
    "def create_embeddings(df):\n",
    "    \"\"\"\n",
    "    Parameters::\n",
    "        df: DataFrame with a column named \"text\"\n",
    "\n",
    "    Returns::\n",
    "        merged_df: DataFrame with 768 columns; each row contains the embeddings for the text in the corresponding row of df.\n",
    "    \"\"\"\n",
    "    embeddings = []\n",
    "\n",
    "    for i in range(df.shape[0]):\n",
    "        text = df.iloc[i][\"text\"]\n",
    "        full_embedding = get_biobert_embeddings(text)[0]\n",
    "        embeddings.append(full_embedding.reshape(-1))\n",
    "\n",
    "    emb_df =  pd.DataFrame(np.array(embeddings))\n",
    "    emb_df = emb_df.set_index(df.index)\n",
    "    merged_df = pd.concat([df, emb_df], axis=1)\n",
    "\n",
    "    return merged_df.drop(columns= \"text\", axis=1)"
   ]
  },
  {
   "cell_type": "code",
   "execution_count": 1,
   "metadata": {},
   "outputs": [
    {
     "name": "stderr",
     "output_type": "stream",
     "text": [
      "c:\\ProgramData\\Anaconda3\\envs\\tabtext_py3.10\\lib\\site-packages\\tqdm\\auto.py:21: TqdmWarning: IProgress not found. Please update jupyter and ipywidgets. See https://ipywidgets.readthedocs.io/en/stable/user_install.html\n",
      "  from .autonotebook import tqdm as notebook_tqdm\n"
     ]
    }
   ],
   "source": [
    "import pandas as pd\n",
    "from math import isnan\n",
    "from transformers import AutoTokenizer, AutoModel, logging, LongformerModel, LongformerTokenizer, AutoModelForMaskedLM\n",
    "import torch\n",
    "import numpy as np\n",
    "import json\n",
    "import os"
   ]
  },
  {
   "cell_type": "code",
   "execution_count": 2,
   "metadata": {},
   "outputs": [
    {
     "data": {
      "text/html": [
       "<div>\n",
       "<style scoped>\n",
       "    .dataframe tbody tr th:only-of-type {\n",
       "        vertical-align: middle;\n",
       "    }\n",
       "\n",
       "    .dataframe tbody tr th {\n",
       "        vertical-align: top;\n",
       "    }\n",
       "\n",
       "    .dataframe thead th {\n",
       "        text-align: right;\n",
       "    }\n",
       "</style>\n",
       "<table border=\"1\" class=\"dataframe\">\n",
       "  <thead>\n",
       "    <tr style=\"text-align: right;\">\n",
       "      <th></th>\n",
       "      <th>text</th>\n",
       "    </tr>\n",
       "  </thead>\n",
       "  <tbody>\n",
       "    <tr>\n",
       "      <th>0</th>\n",
       "      <td>Census Income Dataset: The person's Age is nor...</td>\n",
       "    </tr>\n",
       "    <tr>\n",
       "      <th>1</th>\n",
       "      <td>Census Income Dataset: The person's Age is nor...</td>\n",
       "    </tr>\n",
       "    <tr>\n",
       "      <th>2</th>\n",
       "      <td>Census Income Dataset: The person's Age is nor...</td>\n",
       "    </tr>\n",
       "    <tr>\n",
       "      <th>3</th>\n",
       "      <td>Census Income Dataset: The person's Age is hig...</td>\n",
       "    </tr>\n",
       "    <tr>\n",
       "      <th>4</th>\n",
       "      <td>Census Income Dataset: The person's Age is nor...</td>\n",
       "    </tr>\n",
       "  </tbody>\n",
       "</table>\n",
       "</div>"
      ],
      "text/plain": [
       "                                                text\n",
       "0  Census Income Dataset: The person's Age is nor...\n",
       "1  Census Income Dataset: The person's Age is nor...\n",
       "2  Census Income Dataset: The person's Age is nor...\n",
       "3  Census Income Dataset: The person's Age is hig...\n",
       "4  Census Income Dataset: The person's Age is nor..."
      ]
     },
     "execution_count": 2,
     "metadata": {},
     "output_type": "execute_result"
    }
   ],
   "source": [
    "df = pd.read_csv('data/census_income/census_income_sentences.csv')\n",
    "df.head()"
   ]
  },
  {
   "cell_type": "code",
   "execution_count": 4,
   "metadata": {},
   "outputs": [
    {
     "name": "stdout",
     "output_type": "stream",
     "text": [
      "False\n",
      "True\n"
     ]
    }
   ],
   "source": [
    "print(torch.cuda.is_available())\n",
    "print(torch.backends.cudnn.enabled)"
   ]
  },
  {
   "cell_type": "code",
   "execution_count": null,
   "metadata": {},
   "outputs": [
    {
     "name": "stderr",
     "output_type": "stream",
     "text": [
      "Downloading shards:   0%|          | 0/2 [00:00<?, ?it/s]"
     ]
    },
    {
     "ename": "",
     "evalue": "",
     "output_type": "error",
     "traceback": [
      "\u001b[1;31mThe Kernel crashed while executing code in the the current cell or a previous cell. Please review the code in the cell(s) to identify a possible cause of the failure. Click <a href='https://aka.ms/vscodeJupyterKernelCrash'>here</a> for more info. View Jupyter <a href='command:jupyter.viewOutput'>log</a> for further details."
     ]
    }
   ],
   "source": [
    "from transformers import AutoModelForCausalLM, AutoTokenizer\n",
    "device = \"cuda\" # the device to load the model onto\n",
    "\n",
    "model = AutoModelForCausalLM.from_pretrained(\"mistralai/Mistral-7B-v0.1\")\n",
    "tokenizer = AutoTokenizer.from_pretrained(\"mistralai/Mistral-7B-v0.1\")\n",
    "\n",
    "prompt = \"My favourite condiment is\"\n",
    "\n",
    "model_inputs = tokenizer([prompt], return_tensors=\"pt\").to(device)\n",
    "model.to(device)\n",
    "\n",
    "generated_ids = model.generate(**model_inputs, max_new_tokens=100, do_sample=True)\n",
    "tokenizer.batch_decode(generated_ids)[0]"
   ]
  },
  {
   "cell_type": "code",
   "execution_count": null,
   "metadata": {},
   "outputs": [],
   "source": [
    "def mean_pooling(model_output, attention_mask):\n",
    "    token_embeddings = model_output[0]\n",
    "    input_mask_expanded = attention_mask.unsqueeze(-1).expand(token_embeddings.size()).float()\n",
    "    sum_embeddings = torch.sum(token_embeddings * input_mask_expanded, 1)\n",
    "    sum_mask = torch.clamp(input_mask_expanded.sum(1), min=1e-9)\n",
    "    return sum_embeddings / sum_mask\n",
    "\n",
    "\n",
    "encoded_input = tokenizer(\"hello\", return_tensors='pt')\n",
    "model_output = model(**encoded_input)\n",
    "mean_pooling(model_output, encoded_input['attention_mask'])"
   ]
  }
 ],
 "metadata": {
  "kernelspec": {
   "display_name": "tabtext_py3.10",
   "language": "python",
   "name": "python3"
  },
  "language_info": {
   "codemirror_mode": {
    "name": "ipython",
    "version": 3
   },
   "file_extension": ".py",
   "mimetype": "text/x-python",
   "name": "python",
   "nbconvert_exporter": "python",
   "pygments_lexer": "ipython3",
   "version": "3.10.13"
  }
 },
 "nbformat": 4,
 "nbformat_minor": 2
}
