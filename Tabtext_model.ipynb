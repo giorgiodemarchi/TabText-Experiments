{
 "cells": [
  {
   "cell_type": "code",
   "execution_count": 1,
   "metadata": {},
   "outputs": [],
   "source": [
    "import pandas as pd\n",
    "import json\n",
    "import sys\n",
    "import os\n",
    "import pandas as pd\n",
    "import numpy as np"
   ]
  },
  {
   "cell_type": "code",
   "execution_count": 2,
   "metadata": {},
   "outputs": [],
   "source": [
    "class Column(object):\n",
    "    \"\"\"\n",
    "    Column module containing functionality to convert feature values into written text\n",
    "\n",
    "    name: String corresponding to the name of the column in the data set.\n",
    "    attribute: String corresponging to the text description of the column.\n",
    "    col_type: The type of the column: binary, categorical or numerical.\n",
    "    verb: The verb required to conjugate the attribute.\n",
    "    encode_fn: The function used to encode categorical values of this column.\n",
    "\n",
    "    \"\"\"\n",
    "    def __init__(self, name, attribute=None, col_type=None, verb=None, encode_fn=None):\n",
    "        self.name = name\n",
    "        self.attribute = attribute\n",
    "        self.type = col_type\n",
    "        self.verb = verb\n",
    "        self.encode_fn = encode_fn\n",
    "\n",
    "    def is_binary(self):\n",
    "        return self.type == \"binary\"\n",
    "\n",
    "    def is_categorical(self):\n",
    "        return self.type == \"categorical\"\n",
    "\n",
    "    def is_numerical(self):\n",
    "        return self.type == \"numerical\"\n",
    "\n",
    "    def create_sentence(self, value, imp_value, prefix, missing_word, replace_numbers, descriptive):\n",
    "        \"\"\"\n",
    "        Parameters::\n",
    "            value: The value of this column at a specific data point\n",
    "            imp_value: The imputed value of this column at a specific data point.\n",
    "            prefix: String containing the desired prefix to add at the beginning of the sentence (\"\", \"the Patient\", etc.)\n",
    "            missing_word: String describing how to handle missing values (e.g. \"\", \"is missing\" \"imp_replace\")\n",
    "            replace_numbers: Boolean indicating weather or not to replace numerical values with text (e.g. very low, high, normal)\n",
    "            descriptive: Boolean indicating weather or not the sentence should be descriptive.\n",
    "\n",
    "        Returns::\n",
    "            String with a sentence describing the column and its value.\n",
    "            In the case of missing values:\n",
    "                1. If missing_word == \"\" the sentence is the empty string\n",
    "                2. If missing_word == \"imp_replace\" the sentence is constructed using the imputed value\n",
    "                3. For all other cases the sentence is constructed using the text in the string missing_word\n",
    "\n",
    "        \"\"\"\n",
    "        if descriptive:\n",
    "            return self.create_descriptive_sentence(value, imp_value, prefix, missing_word, replace_numbers)\n",
    "        else:\n",
    "            return self.create_basic_sentence(value, imp_value, prefix, missing_word, replace_numbers)"
   ]
  },
  {
   "cell_type": "code",
   "execution_count": 3,
   "metadata": {},
   "outputs": [],
   "source": [
    "class Binary_Column(Column):\n",
    "    \"\"\"\n",
    "    Binary Column submodule for columns with values in [1, 0, true, false, \"1\", \"0\", \"true\", \"false\"]\n",
    "\n",
    "    verb: The positive from of the verb used to conjugate the attribute when value is 1, \"1\" or \"True\"\n",
    "    neg_verb: Negative form of the verb used to conjugate the attribute when value is 0, \"0\" or \"false\"\n",
    "\n",
    "    \"\"\"\n",
    "    def __init__(self, name, attribute, verb, neg_verb, encode_fn=None):\n",
    "        self.neg_verb = neg_verb\n",
    "        super().__init__(name, attribute, \"binary\", verb, encode_fn)\n",
    "\n",
    "\n",
    "    def create_descriptive_sentence(self, value, imp_value, prefix, missing_word, replace_numbers):\n",
    "        sentence = \"\"\n",
    "\n",
    "        if str(value).lower()  in [\"1\", \"0\", \"true\", \"false\"]:\n",
    "\n",
    "            if int(value) == 1:\n",
    "\n",
    "                sentence = prefix + \" \" + self.verb + \" \" + self.attribute\n",
    "\n",
    "            elif int(value) == 0:\n",
    "\n",
    "                sentence = prefix + \" \" + self.neg_verb + \" \" + self.attribute\n",
    "\n",
    "        return sentence\n",
    "\n",
    "\n",
    "    def create_basic_sentence(self, value, imp_value, prefix, missing_word, replace_numbers):\n",
    "\n",
    "        sentence = \"\"\n",
    "\n",
    "        if str(value).lower()  in [\"1\", \"0\", \"true\", \"false\"]:\n",
    "\n",
    "            if int(value) == 1:\n",
    "\n",
    "                sentence = self.verb + \" \" + self.attribute + \": yes\"\n",
    "\n",
    "            elif int(value) == 0:\n",
    "\n",
    "                sentence = self.neg_verb + \" \" + self.attribute +\" : no\"\n",
    "\n",
    "        elif missing_word != \"\":\n",
    "            sentence = self.verb + \" \" + self.attribute + \": \" + missing_word\n",
    "        return sentence"
   ]
  },
  {
   "cell_type": "code",
   "execution_count": 4,
   "metadata": {},
   "outputs": [],
   "source": [
    "class Categorical_Column(Column):\n",
    "    \"\"\"\n",
    "    Categorical Column submodule for columns with non-numerical values\n",
    "\n",
    "    \"\"\"\n",
    "    def __init__(self, name, attribute, verb, encode_fn=None):\n",
    "        super().__init__(name, attribute, \"categorical\", verb, encode_fn)\n",
    "\n",
    "    def create_descriptive_sentence(self, value, imp_value, prefix, missing_word, replace_numbers):\n",
    "        if len(prefix) != 0:\n",
    "            prefix = prefix[:-1] + \"'s \"\n",
    "        sentence = \"\"\n",
    "        if str(value).lower() not in [\"nan\", \"\", \"none\", \"missing\"]:\n",
    "            sentence = prefix + self.attribute + \" \" + self.verb + \" \" + str(value)\n",
    "        elif missing_word not in [\"\", \"imp_replace\"]:\n",
    "            sentence = prefix  + self.attribute + \" \" + self.verb + \" \" + missing_word\n",
    "        elif missing_word == \"imp_replace\":\n",
    "            sentence = prefix + self.attribute + \" \" + self.verb + \" \" + str(imp_value)\n",
    "        return sentence\n",
    "\n",
    "\n",
    "    def create_basic_sentence(self, value, imp_value, missing_word, replace_numbers):\n",
    "        sentence = \"\"\n",
    "        if  str(value).lower() not in [\"nan\", \"\", \"none\", \"missing\"]:\n",
    "            sentence = self.attribute + \": \" + str(value)\n",
    "        elif missing_word not in [\"\", \"imp_replace\"]:\n",
    "            sentence = self.attribute + \": \" + missing_word\n",
    "        elif missing_word == \"imp_replace\":\n",
    "            sentence = self.attribute + \": \" + str(imp_value)\n",
    "        return sentence"
   ]
  },
  {
   "cell_type": "code",
   "execution_count": 5,
   "metadata": {},
   "outputs": [],
   "source": [
    "class Numerical_Column(Column):\n",
    "    \"\"\"\n",
    "    Numerical Column submodule for columns with numerical values\n",
    "\n",
    "    avg: The average of the values observed for this column (to be computed usign Training set)\n",
    "    sd: The standard deviation of the values observed for this column (to be computed usign Training set)\n",
    "\n",
    "    \"\"\"\n",
    "    def __init__(self, name, attribute, verb, avg, sd, encode_fn = None):\n",
    "        self.avg = avg\n",
    "        self.sd = sd\n",
    "        super().__init__(name, attribute, \"numerical\", verb, encode_fn)\n",
    "\n",
    "\n",
    "    def create_descriptive_sentence(self, value, imp_value, prefix, missing_word, replace_numbers):\n",
    "        if len(prefix) != 0:\n",
    "            prefix = prefix[:-1] + \"'s \"\n",
    "        sentence = \"\"\n",
    "        if str(value).lower() not in [\"nan\", \"\", \"none\", \"missing\"]:\n",
    "            value = float(value)\n",
    "            col_value = self.encode_number(value, replace_numbers)\n",
    "            sentence = prefix  + self.attribute + \" \" + self.verb + \" \" + str(col_value)\n",
    "        elif  missing_word not in [\"\", \"imp_replace\"]:\n",
    "            sentence = prefix  + self.attribute + \" \" + self.verb + \" \" + missing_word\n",
    "        elif missing_word == \"imp_replace\":\n",
    "            col_value = self.encode_number(imp_value, replace_numbers)\n",
    "            sentence = prefix  + self.attribute + \" \" + self.verb + \" \" + str(col_value)\n",
    "        return sentence\n",
    "\n",
    "\n",
    "    def create_basic_sentence(self, value, imp_value, prefix, missing_word, replace_numbers):\n",
    "        sentence = \"\"\n",
    "        if  str(value).lower() not in [\"nan\", \"\", \"none\", \"missing\"]:\n",
    "            value = float(value)\n",
    "            col_value = self.encode_number(value, replace_numbers)\n",
    "            sentence = self.attribute + \": \" + str(col_value)\n",
    "        elif missing_word not in [\"\", \"imp_replace\"]:\n",
    "            sentence = self.attribute + \": \" + missing_word\n",
    "        elif missing_word == \"imp_replace\":\n",
    "            col_value = self.encode_number(imp_value, replace_numbers)\n",
    "            sentence = self.attribute + \": \" + str(col_value)\n",
    "        return sentence\n",
    "\n",
    "    def encode_number(self, value, replace_numbers):\n",
    "        new_value = value\n",
    "        if replace_numbers:\n",
    "            if self.avg - 2*self.sd > value:\n",
    "                new_value = \"very low\"\n",
    "            elif self.avg - 2*self.sd <= value < self.avg - self.sd:\n",
    "                new_value = \"low\"\n",
    "            elif self.avg + 2*self.sd >= value > self.avg + self.sd:\n",
    "                new_value = \"high\"\n",
    "            elif self.avg + 2*self.sd < value:\n",
    "                new_value = \"very high\"\n",
    "            else:\n",
    "                new_value = \"normal\"\n",
    "        return new_value"
   ]
  },
  {
   "cell_type": "code",
   "execution_count": 6,
   "metadata": {},
   "outputs": [],
   "source": [
    "class Table(object):\n",
    "    \"\"\"\n",
    "    Table module containing tabular information for a specific id.\n",
    "\n",
    "    name: String corresponding to the name of the table.\n",
    "    df: Dataframe containing the tabular data for a specific id.\n",
    "    columns: List of Column objects corresponing to the columns in df.\n",
    "    metadata: String containing metadata information about this table structure.\n",
    "    time_col: Name of the column in df containing the timestamp for each observation.\n",
    "    imputer: Function used to impute the missing values in df.\n",
    "\n",
    "    \"\"\"\n",
    "\n",
    "    def __init__(self, name=\"\", df=pd.DataFrame(), columns=None, metadata=None, imputer=None):\n",
    "\n",
    "        self.name = name\n",
    "        self.columns = columns\n",
    "        self.metadata = metadata\n",
    "        self.df = df\n",
    "        self.is_empty = pd.isna(df).all().all()\n",
    "\n",
    "    def create_encoded_imputed_vectors(self):\n",
    "        \"\"\"\n",
    "        Creates encoded and imputed versions of the table contents.\n",
    "        \"\"\"\n",
    "        encoded_df =  pd.DataFrame()\n",
    "\n",
    "        for column in self.columns:\n",
    "            col_values = self.df[column.name]\n",
    "            col_encoder = column.encode_fn\n",
    "            labels = col_encoder(col_values[col_values.notnull()])\n",
    "            encoded_df[column.name] = col_values\n",
    "            encoded_df[column.name] = pd.Series(labels, index=col_values[col_values.notnull()].index)\n",
    "\n",
    "        self.encodings = encoded_df\n",
    "\n",
    "\n",
    "    def create_text(self, prefix, missing_word, descriptive, meta, sep = \"</s>\"):\n",
    "        \"\"\"\n",
    "        Creates a timestamped dataframe; each row contains a String (paragraph) with all the tabular information for the\n",
    "        corresponding timestamp.\n",
    "\n",
    "        Paramteres::\n",
    "            prefix: String containing the desired prefix to add at the beginning of each sentence (\"\", \"the Patient\", etc.)\n",
    "            missing_word: String describing how to handle missing values (e.g. \"\", \"is missing\" \"imp_replace\")\n",
    "            replace_numbers: Boolean indicating weather or not to replace numerical values with text (e.g. very low, high, normal)\n",
    "            descriptive: Boolean indicating weather or not each sentence should be descriptive.\n",
    "            meta: Boolean indicating weather or not to include meta information in the paragraphs.\n",
    "            sep: String indicating what symbol to use at the end of the paragraph as a separator between tables.\n",
    "        \"\"\"\n",
    "        self.text = pd.DataFrame()\n",
    "        text = []\n",
    "\n",
    "        for t_i in range(self.df.shape[0]):\n",
    "\n",
    "            text_i = \"\"\n",
    "\n",
    "            if meta & (len(str(self.metadata)) >1):\n",
    "                text_i = self.metadata\n",
    "\n",
    "            for column in self.columns:\n",
    "\n",
    "                value = self.df.iloc[t_i][column.name]\n",
    "\n",
    "                imp_value = \"Unkwown\"\n",
    "                col_text = column.create_sentence(value, imp_value, prefix, missing_word, descriptive=descriptive, replace_numbers=True)\n",
    "\n",
    "                if len(col_text) >0:\n",
    "                    col_text += \", \"\n",
    "\n",
    "                text_i += col_text\n",
    "\n",
    "            text_i = text_i[:-2]+ \". \" + sep\n",
    "            text.append(text_i)\n",
    "\n",
    "        self.text[\"text\"] =  text\n",
    "\n",
    "    def create_embeddings(self):\n",
    "        \"\"\"\n",
    "        Creates a timestamped dataframe; each row contains NLP embeddings for the paragraph of the corresponding timestamp.\n",
    "        \"\"\"\n",
    "        embeddings = []\n",
    "\n",
    "        for i in range(self.text.shape[0]):\n",
    "\n",
    "            text = self.text.iloc[i][\"text\"]\n",
    "\n",
    "            full_embedding = get_biobert_embeddings(text)[0]\n",
    "\n",
    "            embeddings.append(full_embedding.reshape(-1))\n",
    "\n",
    "        emb_df =  pd.DataFrame(np.array(embeddings))\n",
    "        emb_df = emb_df.set_index(self.text.index)\n",
    "\n",
    "        merged_df = pd.concat([self.text, emb_df], axis=1)\n",
    "        merged_df = merged_df.rename({i: self.name + \"_\" + str(i) for i in range(len(embeddings[0]))}, axis='columns')\n",
    "\n",
    "        self.embeddings = merged_df.drop([\"text\"], axis = 1)"
   ]
  },
  {
   "cell_type": "code",
   "execution_count": 7,
   "metadata": {},
   "outputs": [
    {
     "name": "stderr",
     "output_type": "stream",
     "text": [
      "C:\\Users\\benja\\AppData\\Local\\Temp\\ipykernel_35252\\2114819241.py:1: ParserWarning: Falling back to the 'python' engine because the 'c' engine does not support regex separators (separators > 1 char and different from '\\s+' are interpreted as regex); you can avoid this warning by specifying engine='python'.\n",
      "  train_df = pd.read_csv(\"data/census_income/adult_data\", sep=', ')\n",
      "C:\\Users\\benja\\AppData\\Local\\Temp\\ipykernel_35252\\2114819241.py:2: ParserWarning: Falling back to the 'python' engine because the 'c' engine does not support regex separators (separators > 1 char and different from '\\s+' are interpreted as regex); you can avoid this warning by specifying engine='python'.\n",
      "  test_df = pd.read_csv(\"data/census_income/adult.test\", sep=', ')\n"
     ]
    }
   ],
   "source": [
    "train_df = pd.read_csv(\"data/census_income/adult_data\", sep=', ')\n",
    "test_df = pd.read_csv(\"data/census_income/adult.test\", sep=', ')\n",
    "\n",
    "dataset = pd.concat([train_df, test_df])\n",
    "\n",
    "#NaN are flagged as \"?\"\n",
    "dataset['workclass'] = dataset['workclass'].replace('?', np.nan)\n",
    "dataset['occupation'] = dataset['occupation'].replace('?', np.nan)\n",
    "dataset['native.country'] = dataset['native.country'].replace('?', np.nan)"
   ]
  },
  {
   "cell_type": "markdown",
   "metadata": {},
   "source": [
    "**Test: Categorical Column**"
   ]
  },
  {
   "cell_type": "code",
   "execution_count": 8,
   "metadata": {},
   "outputs": [],
   "source": [
    "workclassColumn = Categorical_Column(name='workclass', attribute='Work Class', verb='is')"
   ]
  },
  {
   "cell_type": "code",
   "execution_count": 9,
   "metadata": {},
   "outputs": [
    {
     "ename": "TypeError",
     "evalue": "Categorical_Column.create_descriptive_sentence() missing 1 required positional argument: 'replace_numbers'",
     "output_type": "error",
     "traceback": [
      "\u001b[1;31m---------------------------------------------------------------------------\u001b[0m",
      "\u001b[1;31mTypeError\u001b[0m                                 Traceback (most recent call last)",
      "\u001b[1;32mc:\\MIT\\curriculum\\projects\\MLOPT\\ML_OPT\\TabText-Experiments\\Tabtext_model.ipynb Cell 10\u001b[0m line \u001b[0;36m1\n\u001b[1;32m----> <a href='vscode-notebook-cell:/c%3A/MIT/curriculum/projects/MLOPT/ML_OPT/TabText-Experiments/Tabtext_model.ipynb#X13sZmlsZQ%3D%3D?line=0'>1</a>\u001b[0m workclassColumn\u001b[39m.\u001b[39;49mcreate_descriptive_sentence(value\u001b[39m=\u001b[39;49mnp\u001b[39m.\u001b[39;49mNaN, prefix\u001b[39m=\u001b[39;49m\u001b[39m\"\u001b[39;49m\u001b[39mThe\u001b[39;49m\u001b[39m\"\u001b[39;49m, missing_word\u001b[39m=\u001b[39;49m\u001b[39m\"\u001b[39;49m\u001b[39mimp_replace\u001b[39;49m\u001b[39m\"\u001b[39;49m, imp_value\u001b[39m=\u001b[39;49m\u001b[39m\"\u001b[39;49m\u001b[39mUnknown\u001b[39;49m\u001b[39m\"\u001b[39;49m)\n",
      "\u001b[1;31mTypeError\u001b[0m: Categorical_Column.create_descriptive_sentence() missing 1 required positional argument: 'replace_numbers'"
     ]
    }
   ],
   "source": [
    "workclassColumn.create_descriptive_sentence(value=np.NaN, prefix=\"The\", missing_word=\"imp_replace\", imp_value=\"Unknown\")"
   ]
  },
  {
   "cell_type": "code",
   "execution_count": null,
   "metadata": {},
   "outputs": [
    {
     "data": {
      "text/plain": [
       "'Work Class: Unknown'"
      ]
     },
     "execution_count": 119,
     "metadata": {},
     "output_type": "execute_result"
    }
   ],
   "source": [
    "workclassColumn.create_basic_sentence(value=np.NaN, missing_word=\"imp_replace\", imp_value=\"Unknown\")"
   ]
  },
  {
   "cell_type": "markdown",
   "metadata": {},
   "source": [
    "**Test: Numerical Column**"
   ]
  },
  {
   "cell_type": "code",
   "execution_count": 10,
   "metadata": {},
   "outputs": [],
   "source": [
    "ageColumn = Numerical_Column(name='age', attribute='Age', verb='is', avg=dataset['age'].mean(), sd=dataset['age'].std())"
   ]
  },
  {
   "cell_type": "code",
   "execution_count": 11,
   "metadata": {},
   "outputs": [
    {
     "data": {
      "text/plain": [
       "'Age: 39.0'"
      ]
     },
     "execution_count": 11,
     "metadata": {},
     "output_type": "execute_result"
    }
   ],
   "source": [
    "ageColumn.create_basic_sentence(value=dataset['age'].iloc[0], prefix=\"\", missing_word=\"imp_replace\", imp_value=dataset['age'].mean(), replace_numbers=False)"
   ]
  },
  {
   "cell_type": "code",
   "execution_count": 12,
   "metadata": {},
   "outputs": [
    {
     "data": {
      "text/plain": [
       "\"Th's Age is 39.0\""
      ]
     },
     "execution_count": 12,
     "metadata": {},
     "output_type": "execute_result"
    }
   ],
   "source": [
    "ageColumn.create_descriptive_sentence(value=dataset['age'].iloc[0], prefix=\"The\", missing_word=\"imp_replace\", imp_value=dataset['age'].mean(), replace_numbers=False)"
   ]
  },
  {
   "cell_type": "markdown",
   "metadata": {},
   "source": [
    "**Test: Binary Column**"
   ]
  },
  {
   "cell_type": "code",
   "execution_count": 13,
   "metadata": {},
   "outputs": [],
   "source": [
    "dataset['sex_binary'] = np.where(dataset['sex']=='Male', 1, 0)"
   ]
  },
  {
   "cell_type": "code",
   "execution_count": 14,
   "metadata": {},
   "outputs": [],
   "source": [
    "sexColumn = Binary_Column(name='sex_binary', attribute='Male', verb='is', neg_verb='is not')"
   ]
  },
  {
   "cell_type": "code",
   "execution_count": 15,
   "metadata": {},
   "outputs": [
    {
     "data": {
      "text/plain": [
       "'is Male: yes'"
      ]
     },
     "execution_count": 15,
     "metadata": {},
     "output_type": "execute_result"
    }
   ],
   "source": [
    "sexColumn.create_basic_sentence(value=1, imp_value=\"\", prefix=\"The gender\", missing_word=\"imp_replace\", replace_numbers=False)"
   ]
  },
  {
   "cell_type": "code",
   "execution_count": 16,
   "metadata": {},
   "outputs": [
    {
     "data": {
      "text/plain": [
       "'The gender is Male'"
      ]
     },
     "execution_count": 16,
     "metadata": {},
     "output_type": "execute_result"
    }
   ],
   "source": [
    "sexColumn.create_descriptive_sentence(value=1, imp_value=\"\", prefix=\"The gender\", missing_word=\"imp_replace\", replace_numbers=False)"
   ]
  },
  {
   "cell_type": "markdown",
   "metadata": {},
   "source": [
    "**Test on whole table**"
   ]
  },
  {
   "cell_type": "code",
   "execution_count": 17,
   "metadata": {},
   "outputs": [],
   "source": [
    "index = 0\n",
    "\n",
    "row = dataset.iloc[index]\n",
    "\n",
    "ageColumn = Numerical_Column(name='age', attribute='Age', verb='is', avg=dataset['age'].mean(), sd=dataset['age'].std())\n",
    "workclassColumn = Categorical_Column(name='workclass', attribute='Workclass', verb='is')\n",
    "educationColumn = Categorical_Column(name='education', attribute='Education', verb='is')\n",
    "education_numColumn = Numerical_Column(name='education.num', attribute='Education Number', verb='is', avg=dataset['education.num'].mean(), sd=dataset['education.num'].std())\n",
    "marital_statusColumn = Categorical_Column(name='marital.status', attribute='Marital Status', verb='is')\n",
    "occupationColumn = Categorical_Column(name='occupation', attribute='Occupation', verb='is')\n",
    "relationshipColumn = Categorical_Column(name='relationship', attribute='Relationship', verb='is')\n",
    "raceColumn = Categorical_Column(name='race', attribute=\"Race\", verb='is')\n",
    "sexColumn = Categorical_Column(name='sex', attribute=\"Gender\", verb='is')\n",
    "capital_gainColumn = Numerical_Column(name='capital.gain', attribute=\"Capital Gain\", verb='is', avg=dataset['capital.gain'].mean(), sd=dataset['capital.gain'].std())\n",
    "capital_lossColumn = Numerical_Column(name='capital.loss', attribute=\"Capital Loss\", verb='is', avg=dataset['capital.loss'].mean(), sd=dataset['capital.loss'].std())\n",
    "hours_per_weekColumn = Numerical_Column(name='hours.per.week', attribute=\"Hours per Week\", verb='is', avg=dataset['hours.per.week'].mean(), sd=dataset['hours.per.week'].std())\n",
    "native_countryColumn = Categorical_Column(name='native.country', attribute=\"Native Country\", verb='is')\n",
    "\n",
    "censusTable = Table(name=\"census\", df = dataset, columns=[ageColumn, workclassColumn, educationColumn, education_numColumn, marital_statusColumn, occupationColumn, relationshipColumn, raceColumn, sexColumn, capital_gainColumn, capital_lossColumn, hours_per_weekColumn, native_countryColumn], metadata=\"Census Income Dataset: \", imputer=None)"
   ]
  },
  {
   "cell_type": "code",
   "execution_count": 18,
   "metadata": {},
   "outputs": [
    {
     "data": {
      "text/html": [
       "<div>\n",
       "<style scoped>\n",
       "    .dataframe tbody tr th:only-of-type {\n",
       "        vertical-align: middle;\n",
       "    }\n",
       "\n",
       "    .dataframe tbody tr th {\n",
       "        vertical-align: top;\n",
       "    }\n",
       "\n",
       "    .dataframe thead th {\n",
       "        text-align: right;\n",
       "    }\n",
       "</style>\n",
       "<table border=\"1\" class=\"dataframe\">\n",
       "  <thead>\n",
       "    <tr style=\"text-align: right;\">\n",
       "      <th></th>\n",
       "      <th>text</th>\n",
       "    </tr>\n",
       "  </thead>\n",
       "  <tbody>\n",
       "    <tr>\n",
       "      <th>0</th>\n",
       "      <td>Census Income Dataset: The person's Age is nor...</td>\n",
       "    </tr>\n",
       "    <tr>\n",
       "      <th>1</th>\n",
       "      <td>Census Income Dataset: The person's Age is nor...</td>\n",
       "    </tr>\n",
       "    <tr>\n",
       "      <th>2</th>\n",
       "      <td>Census Income Dataset: The person's Age is nor...</td>\n",
       "    </tr>\n",
       "    <tr>\n",
       "      <th>3</th>\n",
       "      <td>Census Income Dataset: The person's Age is hig...</td>\n",
       "    </tr>\n",
       "    <tr>\n",
       "      <th>4</th>\n",
       "      <td>Census Income Dataset: The person's Age is nor...</td>\n",
       "    </tr>\n",
       "    <tr>\n",
       "      <th>...</th>\n",
       "      <td>...</td>\n",
       "    </tr>\n",
       "    <tr>\n",
       "      <th>48837</th>\n",
       "      <td>Census Income Dataset: The person's Age is nor...</td>\n",
       "    </tr>\n",
       "    <tr>\n",
       "      <th>48838</th>\n",
       "      <td>Census Income Dataset: The person's Age is hig...</td>\n",
       "    </tr>\n",
       "    <tr>\n",
       "      <th>48839</th>\n",
       "      <td>Census Income Dataset: The person's Age is nor...</td>\n",
       "    </tr>\n",
       "    <tr>\n",
       "      <th>48840</th>\n",
       "      <td>Census Income Dataset: The person's Age is nor...</td>\n",
       "    </tr>\n",
       "    <tr>\n",
       "      <th>48841</th>\n",
       "      <td>Census Income Dataset: The person's Age is nor...</td>\n",
       "    </tr>\n",
       "  </tbody>\n",
       "</table>\n",
       "<p>48842 rows × 1 columns</p>\n",
       "</div>"
      ],
      "text/plain": [
       "                                                    text\n",
       "0      Census Income Dataset: The person's Age is nor...\n",
       "1      Census Income Dataset: The person's Age is nor...\n",
       "2      Census Income Dataset: The person's Age is nor...\n",
       "3      Census Income Dataset: The person's Age is hig...\n",
       "4      Census Income Dataset: The person's Age is nor...\n",
       "...                                                  ...\n",
       "48837  Census Income Dataset: The person's Age is nor...\n",
       "48838  Census Income Dataset: The person's Age is hig...\n",
       "48839  Census Income Dataset: The person's Age is nor...\n",
       "48840  Census Income Dataset: The person's Age is nor...\n",
       "48841  Census Income Dataset: The person's Age is nor...\n",
       "\n",
       "[48842 rows x 1 columns]"
      ]
     },
     "execution_count": 18,
     "metadata": {},
     "output_type": "execute_result"
    }
   ],
   "source": [
    "censusTable.create_text(prefix=\"The person \", missing_word=\"is missing\", descriptive=True, meta=True, sep=\"</s>\")\n",
    "censusTable.text"
   ]
  },
  {
   "cell_type": "code",
   "execution_count": 207,
   "metadata": {},
   "outputs": [
    {
     "data": {
      "text/plain": [
       "\"Census Income Dataset: The person's Age is normal, The person's Workclass is State-gov, The person's Education is Bachelors, The person's Education Number is high, The person's Marital Status is Never-married, The person's Occupation is Adm-clerical, The person's Relationship is Not-in-family, The person's Race is White, The person's Gender is Male, The person's Capital Gain is normal, The person's Capital Loss is normal, The person's Hours per Week is normal, The person's Native Country is United-States. </s>\""
      ]
     },
     "execution_count": 207,
     "metadata": {},
     "output_type": "execute_result"
    }
   ],
   "source": [
    "first_string = censusTable.text.iloc[0][\"text\"]\n",
    "first_string"
   ]
  }
 ],
 "metadata": {
  "kernelspec": {
   "display_name": ".venv",
   "language": "python",
   "name": "python3"
  },
  "language_info": {
   "codemirror_mode": {
    "name": "ipython",
    "version": 3
   },
   "file_extension": ".py",
   "mimetype": "text/x-python",
   "name": "python",
   "nbconvert_exporter": "python",
   "pygments_lexer": "ipython3",
   "version": "3.10.13"
  }
 },
 "nbformat": 4,
 "nbformat_minor": 2
}
