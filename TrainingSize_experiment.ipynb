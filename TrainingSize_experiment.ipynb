{
 "cells": [
  {
   "cell_type": "code",
   "execution_count": 2,
   "metadata": {},
   "outputs": [],
   "source": [
    "from xgboost import XGBClassifier\n",
    "\n",
    "from sklearn.metrics import roc_auc_score, accuracy_score, precision_score, recall_score, f1_score, r2_score\n",
    "from sklearn.model_selection import StratifiedKFold, RandomizedSearchCV\n",
    "from sklearn.preprocessing import StandardScaler\n",
    "\n",
    "import pandas as pd\n",
    "import numpy as np"
   ]
  },
  {
   "cell_type": "markdown",
   "metadata": {},
   "source": [
    "**Load data + feature engineering**"
   ]
  },
  {
   "cell_type": "code",
   "execution_count": 3,
   "metadata": {},
   "outputs": [
    {
     "name": "stderr",
     "output_type": "stream",
     "text": [
      "C:\\Users\\giorg\\AppData\\Local\\Temp\\ipykernel_14400\\3914434237.py:1: ParserWarning: Falling back to the 'python' engine because the 'c' engine does not support regex separators (separators > 1 char and different from '\\s+' are interpreted as regex); you can avoid this warning by specifying engine='python'.\n",
      "  train_df = pd.read_csv(\"data/census_income/adult_data\", sep=', ')\n",
      "C:\\Users\\giorg\\AppData\\Local\\Temp\\ipykernel_14400\\3914434237.py:2: ParserWarning: Falling back to the 'python' engine because the 'c' engine does not support regex separators (separators > 1 char and different from '\\s+' are interpreted as regex); you can avoid this warning by specifying engine='python'.\n",
      "  test_df = pd.read_csv(\"data/census_income/adult.test\", sep=', ')\n"
     ]
    }
   ],
   "source": [
    "train_df = pd.read_csv(\"data/census_income/adult_data\", sep=', ')\n",
    "test_df = pd.read_csv(\"data/census_income/adult.test\", sep=', ')\n",
    "\n",
    "dataset = pd.concat([train_df, test_df])\n",
    "\n",
    "dataset = dataset.reset_index(drop=True) # fix index\n",
    "\n",
    "#NaN are flagged as \"?\"\n",
    "dataset['workclass'] = dataset['workclass'].replace('?', np.nan)\n",
    "dataset['occupation'] = dataset['occupation'].replace('?', np.nan)\n",
    "dataset['native.country'] = dataset['native.country'].replace('?', np.nan)\n",
    "\n",
    "#### FEATUE ENGINEERING\n",
    "# Identify Numeric features\n",
    "numeric_features = ['age','fnlwgt','education.num','capital.gain','capital.loss','hours.per.week','income']\n",
    "cat_features = ['workclass','education','marital.status', 'occupation', 'relationship', 'race', 'sex', 'native.country']\n",
    "\n",
    "# Sex\n",
    "dataset[\"sex\"] = dataset[\"sex\"].map({\"Male\": 0, \"Female\":1})\n",
    "\n",
    "# Marital Status\n",
    "dataset[\"marital.status\"] = dataset[\"marital.status\"].replace(['Never-married','Divorced','Separated','Widowed'], 'Single')\n",
    "dataset[\"marital.status\"] = dataset[\"marital.status\"].replace(['Married-civ-spouse','Married-spouse-absent','Married-AF-spouse'], 'Married')\n",
    "dataset[\"marital.status\"] = dataset[\"marital.status\"].map({\"Married\":1, \"Single\":0})\n",
    "dataset[\"marital.status\"] = dataset[\"marital.status\"].astype(int)\n",
    "\n",
    "# Education\n",
    "dummies_ed = pd.get_dummies(dataset['education'], prefix='education')\n",
    "dataset = pd.concat([dataset, dummies_ed], axis=1)\n",
    "dataset = dataset.drop('education', axis=1)\n",
    "\n",
    "# Workclass\n",
    "dataset['workclass'] = dataset['workclass'].str.replace('?', 'Unemployed')   # Missing values\n",
    "dummies_w = pd.get_dummies(dataset['workclass'], prefix='workclass')\n",
    "dataset = pd.concat([dataset, dummies_w], axis=1)\n",
    "dataset = dataset.drop('workclass', axis=1)\n",
    "\n",
    "# Occupation\n",
    "dataset['occupation'] = dataset['occupation'].str.replace('?', 'Unemployed')   # Missing values\n",
    "dummies_o = pd.get_dummies(dataset['occupation'], prefix='occupation')\n",
    "dataset = pd.concat([dataset, dummies_o], axis=1)\n",
    "dataset = dataset.drop('occupation', axis=1)\n",
    "\n",
    "# Race \n",
    "dummies_r = pd.get_dummies(dataset['race'], prefix='race')\n",
    "dataset = pd.concat([dataset, dummies_r], axis=1)\n",
    "dataset = dataset.drop('race', axis=1)\n",
    "\n",
    "# Relationship\n",
    "dummies_re = pd.get_dummies(dataset['relationship'], prefix='relationship')\n",
    "dataset = pd.concat([dataset, dummies_re], axis=1)\n",
    "dataset = dataset.drop('relationship', axis=1)\n",
    "\n",
    "# Native Country and fnlwgt dropped\n",
    "dataset.drop(labels=[\"native.country\", \"fnlwgt\"], axis = 1, inplace = True)\n",
    "\n",
    "# Convert to bool\n",
    "for col in dataset.columns:\n",
    "    if dataset[col].dtype == 'bool':\n",
    "        dataset[col] = dataset[col].astype(int)\n",
    "dataset['income']=dataset['income'].map({'<=50K': 0, '>50K': 1, '<=50K.': 0, '>50K.': 1}).astype(int)"
   ]
  },
  {
   "cell_type": "markdown",
   "metadata": {},
   "source": [
    "**Load Embeddings**"
   ]
  },
  {
   "cell_type": "code",
   "execution_count": 4,
   "metadata": {},
   "outputs": [],
   "source": [
    "embeddings = pd.read_csv('data/embeddings_two.csv', index_col=0)"
   ]
  },
  {
   "cell_type": "markdown",
   "metadata": {},
   "source": [
    "**Define grid search**"
   ]
  },
  {
   "cell_type": "code",
   "execution_count": 5,
   "metadata": {},
   "outputs": [],
   "source": [
    "data_size = [100, 500, 1000, 5000, 10000, 32561]"
   ]
  },
  {
   "cell_type": "code",
   "execution_count": 6,
   "metadata": {},
   "outputs": [],
   "source": [
    "def find_best_threshold(y_true, y_prob):\n",
    "    best_threshold = 0.5\n",
    "    best_score = 0\n",
    "    for threshold in np.arange(0.1, 0.9, 0.001):\n",
    "        score = f1_score(y_true, y_prob >= threshold)\n",
    "        if score > best_score:\n",
    "            best_score = score\n",
    "            best_threshold = threshold\n",
    "    return best_threshold\n",
    "\n",
    "XGB_grid = {\n",
    "        \"n_estimators\": [100, 200, 300],\n",
    "        \"learning_rate\": [0.01, 0.1, 0.2],\n",
    "        \"max_depth\": [3, 5, 7],\n",
    "    }\n",
    "\n",
    "skf = StratifiedKFold(n_splits=5, shuffle=True)"
   ]
  },
  {
   "cell_type": "markdown",
   "metadata": {},
   "source": [
    "**Baseline**"
   ]
  },
  {
   "cell_type": "code",
   "execution_count": 7,
   "metadata": {},
   "outputs": [],
   "source": [
    "# Run in 2:30 minutes\n",
    "auc_baseline = {}\n",
    "acc_baseline = {}\n",
    "\n",
    "for size in data_size:\n",
    "    ## Baseline model\n",
    "    X_train, Y_train = dataset.drop(['income'], axis=1).iloc[:size], dataset[['income']].iloc[:size]\n",
    "    X_test, Y_test = dataset.drop(['income'], axis=1).iloc[32561:], dataset[['income']].iloc[32561:]\n",
    "    \n",
    "    scaler = StandardScaler()\n",
    "    X_train = scaler.fit_transform(X_train)\n",
    "    X_test = scaler.transform(X_test)\n",
    "\n",
    "    xgb = XGBClassifier()\n",
    "    search = RandomizedSearchCV(xgb, \n",
    "                                XGB_grid, \n",
    "                                scoring='roc_auc', \n",
    "                                cv=skf.split(X_train, Y_train))\n",
    "    \n",
    "    search.fit(X_train, Y_train)\n",
    "    best_model = search.best_estimator_\n",
    "    probas = best_model.predict_proba(X_test)[:, 1]\n",
    "    best_threshold = find_best_threshold(Y_test, probas)\n",
    "\n",
    "    preds = (best_model.predict_proba(X_test)[:, 1] >= best_threshold).astype(int)\n",
    "\n",
    "    auc = roc_auc_score(Y_test, preds)\n",
    "    acc = accuracy_score(Y_test, preds)\n",
    "\n",
    "    auc_baseline[size] = auc\n",
    "    acc_baseline[size] = acc"
   ]
  },
  {
   "cell_type": "code",
   "execution_count": 8,
   "metadata": {},
   "outputs": [
    {
     "data": {
      "text/plain": [
       "{100: 0.7080362659620981,\n",
       " 500: 0.7870222504919496,\n",
       " 1000: 0.797603795587288,\n",
       " 5000: 0.8186661748737741,\n",
       " 10000: 0.8151190245438528,\n",
       " 32561: 0.8191613864795846}"
      ]
     },
     "execution_count": 8,
     "metadata": {},
     "output_type": "execute_result"
    }
   ],
   "source": [
    "auc_baseline"
   ]
  },
  {
   "cell_type": "markdown",
   "metadata": {},
   "source": [
    "**Tabtext**"
   ]
  },
  {
   "cell_type": "code",
   "execution_count": 9,
   "metadata": {},
   "outputs": [],
   "source": [
    "auc_tabtext = {}\n",
    "acc_tabtext = {}\n",
    "\n",
    "df_concat = pd.concat([dataset, embeddings], axis=1)\n",
    "\n",
    "for size in data_size:\n",
    "    ## Baseline model\n",
    "    X_train, Y_train = df_concat.drop(['income'], axis=1).iloc[:size], df_concat[['income']].iloc[:size]\n",
    "    X_test, Y_test = df_concat.drop(['income'], axis=1).iloc[32561:], df_concat[['income']].iloc[32561:]\n",
    "    \n",
    "    scaler = StandardScaler()\n",
    "    X_train = scaler.fit_transform(X_train)\n",
    "    X_test = scaler.transform(X_test)\n",
    "\n",
    "    xgb = XGBClassifier()\n",
    "    search = RandomizedSearchCV(xgb, \n",
    "                                XGB_grid, \n",
    "                                scoring='roc_auc', \n",
    "                                cv=skf.split(X_train, Y_train))\n",
    "    \n",
    "    search.fit(X_train, Y_train)\n",
    "    best_model = search.best_estimator_\n",
    "    probas = best_model.predict_proba(X_test)[:, 1]\n",
    "    best_threshold = find_best_threshold(Y_test, probas)\n",
    "\n",
    "    preds = (best_model.predict_proba(X_test)[:, 1] >= best_threshold).astype(int)\n",
    "\n",
    "    auc = roc_auc_score(Y_test, preds)\n",
    "    acc = accuracy_score(Y_test, preds)\n",
    "\n",
    "    auc_tabtext[size] = auc\n",
    "    acc_tabtext[size] = acc"
   ]
  },
  {
   "cell_type": "code",
   "execution_count": 10,
   "metadata": {},
   "outputs": [
    {
     "data": {
      "text/plain": [
       "{100: 0.7118330450950245,\n",
       " 500: 0.7671859347232756,\n",
       " 1000: 0.783209569637309,\n",
       " 5000: 0.8071828108347494,\n",
       " 10000: 0.8101318117863435,\n",
       " 32561: 0.8207345591773008}"
      ]
     },
     "execution_count": 10,
     "metadata": {},
     "output_type": "execute_result"
    }
   ],
   "source": [
    "auc_tabtext"
   ]
  },
  {
   "cell_type": "code",
   "execution_count": null,
   "metadata": {},
   "outputs": [],
   "source": []
  },
  {
   "cell_type": "code",
   "execution_count": 15,
   "metadata": {},
   "outputs": [
    {
     "ename": "TypeError",
     "evalue": "'numpy.ndarray' object is not callable",
     "output_type": "error",
     "traceback": [
      "\u001b[1;31m---------------------------------------------------------------------------\u001b[0m",
      "\u001b[1;31mTypeError\u001b[0m                                 Traceback (most recent call last)",
      "\u001b[1;32m~\\AppData\\Local\\Temp\\ipykernel_14400\\215192377.py\u001b[0m in \u001b[0;36m?\u001b[1;34m()\u001b[0m\n\u001b[1;32m----> 1\u001b[1;33m \u001b[0macc_baseline\u001b[0m \u001b[1;33m=\u001b[0m \u001b[0mpd\u001b[0m\u001b[1;33m.\u001b[0m\u001b[0mDataFrame\u001b[0m\u001b[1;33m.\u001b[0m\u001b[0mfrom_dict\u001b[0m\u001b[1;33m(\u001b[0m\u001b[0macc_baseline\u001b[0m\u001b[1;33m,\u001b[0m \u001b[0morient\u001b[0m\u001b[1;33m=\u001b[0m\u001b[1;34m'index'\u001b[0m\u001b[1;33m)\u001b[0m\u001b[1;33m.\u001b[0m\u001b[0mrename\u001b[0m\u001b[1;33m(\u001b[0m\u001b[1;33m{\u001b[0m\u001b[1;36m0\u001b[0m\u001b[1;33m:\u001b[0m \u001b[1;34m'Accuracy - Baseline'\u001b[0m\u001b[1;33m}\u001b[0m\u001b[1;33m,\u001b[0m \u001b[0maxis\u001b[0m\u001b[1;33m=\u001b[0m\u001b[1;36m1\u001b[0m\u001b[1;33m)\u001b[0m\u001b[1;33m\u001b[0m\u001b[1;33m\u001b[0m\u001b[0m\n\u001b[0m\u001b[0;32m      2\u001b[0m \u001b[0mauc_baseline\u001b[0m \u001b[1;33m=\u001b[0m \u001b[0mpd\u001b[0m\u001b[1;33m.\u001b[0m\u001b[0mDataFrame\u001b[0m\u001b[1;33m.\u001b[0m\u001b[0mfrom_dict\u001b[0m\u001b[1;33m(\u001b[0m\u001b[0mauc_baseline\u001b[0m\u001b[1;33m,\u001b[0m \u001b[0morient\u001b[0m\u001b[1;33m=\u001b[0m\u001b[1;34m'index'\u001b[0m\u001b[1;33m)\u001b[0m\u001b[1;33m.\u001b[0m\u001b[0mrename\u001b[0m\u001b[1;33m(\u001b[0m\u001b[1;33m{\u001b[0m\u001b[1;36m0\u001b[0m\u001b[1;33m:\u001b[0m \u001b[1;34m'AUC - Baseline'\u001b[0m\u001b[1;33m}\u001b[0m\u001b[1;33m,\u001b[0m \u001b[0maxis\u001b[0m\u001b[1;33m=\u001b[0m\u001b[1;36m1\u001b[0m\u001b[1;33m)\u001b[0m\u001b[1;33m\u001b[0m\u001b[1;33m\u001b[0m\u001b[0m\n\u001b[0;32m      3\u001b[0m \u001b[0macc_tabtext\u001b[0m \u001b[1;33m=\u001b[0m \u001b[0mpd\u001b[0m\u001b[1;33m.\u001b[0m\u001b[0mDataFrame\u001b[0m\u001b[1;33m.\u001b[0m\u001b[0mfrom_dict\u001b[0m\u001b[1;33m(\u001b[0m\u001b[0macc_tabtext\u001b[0m\u001b[1;33m,\u001b[0m \u001b[0morient\u001b[0m\u001b[1;33m=\u001b[0m\u001b[1;34m'index'\u001b[0m\u001b[1;33m)\u001b[0m\u001b[1;33m.\u001b[0m\u001b[0mrename\u001b[0m\u001b[1;33m(\u001b[0m\u001b[1;33m{\u001b[0m\u001b[1;36m0\u001b[0m\u001b[1;33m:\u001b[0m \u001b[1;34m'Accuracy - TabText'\u001b[0m\u001b[1;33m}\u001b[0m\u001b[1;33m,\u001b[0m \u001b[0maxis\u001b[0m\u001b[1;33m=\u001b[0m\u001b[1;36m1\u001b[0m\u001b[1;33m)\u001b[0m\u001b[1;33m\u001b[0m\u001b[1;33m\u001b[0m\u001b[0m\n\u001b[0;32m      4\u001b[0m \u001b[0mauc_tabtext\u001b[0m \u001b[1;33m=\u001b[0m \u001b[0mpd\u001b[0m\u001b[1;33m.\u001b[0m\u001b[0mDataFrame\u001b[0m\u001b[1;33m.\u001b[0m\u001b[0mfrom_dict\u001b[0m\u001b[1;33m(\u001b[0m\u001b[0mauc_tabtext\u001b[0m\u001b[1;33m,\u001b[0m \u001b[0morient\u001b[0m\u001b[1;33m=\u001b[0m\u001b[1;34m'index'\u001b[0m\u001b[1;33m)\u001b[0m\u001b[1;33m.\u001b[0m\u001b[0mrename\u001b[0m\u001b[1;33m(\u001b[0m\u001b[1;33m{\u001b[0m\u001b[1;36m0\u001b[0m\u001b[1;33m:\u001b[0m \u001b[1;34m'AUC - TabText'\u001b[0m\u001b[1;33m}\u001b[0m\u001b[1;33m,\u001b[0m \u001b[0maxis\u001b[0m\u001b[1;33m=\u001b[0m\u001b[1;36m1\u001b[0m\u001b[1;33m)\u001b[0m\u001b[1;33m\u001b[0m\u001b[1;33m\u001b[0m\u001b[0m\n",
      "\u001b[1;32mc:\\Users\\giorg\\MIT\\TabText-Experiments\\TabVenv\\lib\\site-packages\\pandas\\core\\frame.py\u001b[0m in \u001b[0;36m?\u001b[1;34m(cls, data, orient, dtype, columns)\u001b[0m\n\u001b[0;32m   1792\u001b[0m         \u001b[0morient\u001b[0m \u001b[1;33m=\u001b[0m \u001b[0morient\u001b[0m\u001b[1;33m.\u001b[0m\u001b[0mlower\u001b[0m\u001b[1;33m(\u001b[0m\u001b[1;33m)\u001b[0m  \u001b[1;31m# type: ignore[assignment]\u001b[0m\u001b[1;33m\u001b[0m\u001b[1;33m\u001b[0m\u001b[0m\n\u001b[0;32m   1793\u001b[0m         \u001b[1;32mif\u001b[0m \u001b[0morient\u001b[0m \u001b[1;33m==\u001b[0m \u001b[1;34m\"index\"\u001b[0m\u001b[1;33m:\u001b[0m\u001b[1;33m\u001b[0m\u001b[1;33m\u001b[0m\u001b[0m\n\u001b[0;32m   1794\u001b[0m             \u001b[1;32mif\u001b[0m \u001b[0mlen\u001b[0m\u001b[1;33m(\u001b[0m\u001b[0mdata\u001b[0m\u001b[1;33m)\u001b[0m \u001b[1;33m>\u001b[0m \u001b[1;36m0\u001b[0m\u001b[1;33m:\u001b[0m\u001b[1;33m\u001b[0m\u001b[1;33m\u001b[0m\u001b[0m\n\u001b[0;32m   1795\u001b[0m                 \u001b[1;31m# TODO speed up Series case\u001b[0m\u001b[1;33m\u001b[0m\u001b[1;33m\u001b[0m\u001b[0m\n\u001b[1;32m-> 1796\u001b[1;33m                 \u001b[1;32mif\u001b[0m \u001b[0misinstance\u001b[0m\u001b[1;33m(\u001b[0m\u001b[0mnext\u001b[0m\u001b[1;33m(\u001b[0m\u001b[0miter\u001b[0m\u001b[1;33m(\u001b[0m\u001b[0mdata\u001b[0m\u001b[1;33m.\u001b[0m\u001b[0mvalues\u001b[0m\u001b[1;33m(\u001b[0m\u001b[1;33m)\u001b[0m\u001b[1;33m)\u001b[0m\u001b[1;33m)\u001b[0m\u001b[1;33m,\u001b[0m \u001b[1;33m(\u001b[0m\u001b[0mSeries\u001b[0m\u001b[1;33m,\u001b[0m \u001b[0mdict\u001b[0m\u001b[1;33m)\u001b[0m\u001b[1;33m)\u001b[0m\u001b[1;33m:\u001b[0m\u001b[1;33m\u001b[0m\u001b[1;33m\u001b[0m\u001b[0m\n\u001b[0m\u001b[0;32m   1797\u001b[0m                     \u001b[0mdata\u001b[0m \u001b[1;33m=\u001b[0m \u001b[0m_from_nested_dict\u001b[0m\u001b[1;33m(\u001b[0m\u001b[0mdata\u001b[0m\u001b[1;33m)\u001b[0m\u001b[1;33m\u001b[0m\u001b[1;33m\u001b[0m\u001b[0m\n\u001b[0;32m   1798\u001b[0m                 \u001b[1;32melse\u001b[0m\u001b[1;33m:\u001b[0m\u001b[1;33m\u001b[0m\u001b[1;33m\u001b[0m\u001b[0m\n\u001b[0;32m   1799\u001b[0m                     \u001b[0mindex\u001b[0m \u001b[1;33m=\u001b[0m \u001b[0mlist\u001b[0m\u001b[1;33m(\u001b[0m\u001b[0mdata\u001b[0m\u001b[1;33m.\u001b[0m\u001b[0mkeys\u001b[0m\u001b[1;33m(\u001b[0m\u001b[1;33m)\u001b[0m\u001b[1;33m)\u001b[0m\u001b[1;33m\u001b[0m\u001b[1;33m\u001b[0m\u001b[0m\n",
      "\u001b[1;31mTypeError\u001b[0m: 'numpy.ndarray' object is not callable"
     ]
    }
   ],
   "source": [
    "acc_baseline = pd.DataFrame.from_dict(acc_baseline, orient='index').rename({0: 'Accuracy - Baseline'}, axis=1)\n",
    "auc_baseline = pd.DataFrame.from_dict(auc_baseline, orient='index').rename({0: 'AUC - Baseline'}, axis=1)\n",
    "acc_tabtext = pd.DataFrame.from_dict(acc_tabtext, orient='index').rename({0: 'Accuracy - TabText'}, axis=1)\n",
    "auc_tabtext = pd.DataFrame.from_dict(auc_tabtext, orient='index').rename({0: 'AUC - TabText'}, axis=1)"
   ]
  },
  {
   "cell_type": "code",
   "execution_count": 16,
   "metadata": {},
   "outputs": [],
   "source": [
    "comparison = pd.concat([acc_baseline, acc_tabtext, auc_baseline, auc_tabtext], axis=1)\n",
    "\n",
    "comparison['Accuracy change'] = comparison['Accuracy - TabText'] - comparison['Accuracy - Baseline']\n",
    "comparison['AUC change'] = comparison['AUC - TabText'] - comparison['AUC - Baseline']"
   ]
  },
  {
   "cell_type": "code",
   "execution_count": 19,
   "metadata": {},
   "outputs": [
    {
     "data": {
      "text/html": [
       "<div>\n",
       "<style scoped>\n",
       "    .dataframe tbody tr th:only-of-type {\n",
       "        vertical-align: middle;\n",
       "    }\n",
       "\n",
       "    .dataframe tbody tr th {\n",
       "        vertical-align: top;\n",
       "    }\n",
       "\n",
       "    .dataframe thead th {\n",
       "        text-align: right;\n",
       "    }\n",
       "</style>\n",
       "<table border=\"1\" class=\"dataframe\">\n",
       "  <thead>\n",
       "    <tr style=\"text-align: right;\">\n",
       "      <th></th>\n",
       "      <th>Training set size</th>\n",
       "      <th>Accuracy - Baseline</th>\n",
       "      <th>Accuracy - TabText</th>\n",
       "      <th>AUC - Baseline</th>\n",
       "      <th>AUC - TabText</th>\n",
       "      <th>Accuracy change</th>\n",
       "      <th>AUC change</th>\n",
       "    </tr>\n",
       "  </thead>\n",
       "  <tbody>\n",
       "    <tr>\n",
       "      <th>0</th>\n",
       "      <td>100</td>\n",
       "      <td>0.767582</td>\n",
       "      <td>0.719612</td>\n",
       "      <td>0.708036</td>\n",
       "      <td>0.711833</td>\n",
       "      <td>-0.047970</td>\n",
       "      <td>0.003797</td>\n",
       "    </tr>\n",
       "    <tr>\n",
       "      <th>1</th>\n",
       "      <td>500</td>\n",
       "      <td>0.819790</td>\n",
       "      <td>0.794976</td>\n",
       "      <td>0.787022</td>\n",
       "      <td>0.767186</td>\n",
       "      <td>-0.024814</td>\n",
       "      <td>-0.019836</td>\n",
       "    </tr>\n",
       "    <tr>\n",
       "      <th>2</th>\n",
       "      <td>1000</td>\n",
       "      <td>0.831153</td>\n",
       "      <td>0.829740</td>\n",
       "      <td>0.797604</td>\n",
       "      <td>0.783210</td>\n",
       "      <td>-0.001413</td>\n",
       "      <td>-0.014394</td>\n",
       "    </tr>\n",
       "    <tr>\n",
       "      <th>3</th>\n",
       "      <td>5000</td>\n",
       "      <td>0.847552</td>\n",
       "      <td>0.841533</td>\n",
       "      <td>0.818666</td>\n",
       "      <td>0.807183</td>\n",
       "      <td>-0.006019</td>\n",
       "      <td>-0.011483</td>\n",
       "    </tr>\n",
       "    <tr>\n",
       "      <th>4</th>\n",
       "      <td>10000</td>\n",
       "      <td>0.862846</td>\n",
       "      <td>0.857011</td>\n",
       "      <td>0.815119</td>\n",
       "      <td>0.810132</td>\n",
       "      <td>-0.005835</td>\n",
       "      <td>-0.004987</td>\n",
       "    </tr>\n",
       "    <tr>\n",
       "      <th>5</th>\n",
       "      <td>32561</td>\n",
       "      <td>0.869295</td>\n",
       "      <td>0.860451</td>\n",
       "      <td>0.819161</td>\n",
       "      <td>0.820735</td>\n",
       "      <td>-0.008845</td>\n",
       "      <td>0.001573</td>\n",
       "    </tr>\n",
       "  </tbody>\n",
       "</table>\n",
       "</div>"
      ],
      "text/plain": [
       "   Training set size  Accuracy - Baseline  Accuracy - TabText  AUC - Baseline  \\\n",
       "0                100             0.767582            0.719612        0.708036   \n",
       "1                500             0.819790            0.794976        0.787022   \n",
       "2               1000             0.831153            0.829740        0.797604   \n",
       "3               5000             0.847552            0.841533        0.818666   \n",
       "4              10000             0.862846            0.857011        0.815119   \n",
       "5              32561             0.869295            0.860451        0.819161   \n",
       "\n",
       "   AUC - TabText  Accuracy change  AUC change  \n",
       "0       0.711833        -0.047970    0.003797  \n",
       "1       0.767186        -0.024814   -0.019836  \n",
       "2       0.783210        -0.001413   -0.014394  \n",
       "3       0.807183        -0.006019   -0.011483  \n",
       "4       0.810132        -0.005835   -0.004987  \n",
       "5       0.820735        -0.008845    0.001573  "
      ]
     },
     "execution_count": 19,
     "metadata": {},
     "output_type": "execute_result"
    }
   ],
   "source": [
    "comparison.reset_index().rename({'index': 'Training set size'}, axis=1)"
   ]
  }
 ],
 "metadata": {
  "kernelspec": {
   "display_name": "TabVenv",
   "language": "python",
   "name": "python3"
  },
  "language_info": {
   "codemirror_mode": {
    "name": "ipython",
    "version": 3
   },
   "file_extension": ".py",
   "mimetype": "text/x-python",
   "name": "python",
   "nbconvert_exporter": "python",
   "pygments_lexer": "ipython3",
   "version": "3.10.2"
  }
 },
 "nbformat": 4,
 "nbformat_minor": 2
}
