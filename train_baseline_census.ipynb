{
 "cells": [
  {
   "cell_type": "markdown",
   "metadata": {
    "_cell_guid": "26ca1808-47be-4291-bae6-aee31907dfd0",
    "_execution_state": "idle",
    "_uuid": "8b5645b4fc767f691c88c0beeb918337c49b6433",
    "collapsed": false
   },
   "source": [
    "# Baseline model - census income prediction\n",
    "\n",
    "Task: predict whether a person earns more or less than $50k."
   ]
  },
  {
   "cell_type": "code",
   "execution_count": 24,
   "metadata": {
    "_cell_guid": "9201e3be-d4ec-4e38-9e7b-eb7bf54d7c25",
    "_execution_state": "idle",
    "_uuid": "de4cbbff6d2b51eb47a5a4719da64cd27804989d",
    "collapsed": false
   },
   "outputs": [],
   "source": [
    "import pandas as pd\n",
    "import numpy as np\n",
    "import matplotlib.pyplot as plt\n",
    "import seaborn as sns\n",
    "%matplotlib inline\n",
    "\n",
    "from collections import Counter\n",
    "\n",
    "from sklearn.ensemble import RandomForestClassifier\n",
    "from sklearn.linear_model import LogisticRegression\n",
    "from sklearn.neighbors import KNeighborsClassifier\n",
    "from sklearn.tree import DecisionTreeClassifier\n",
    "from sklearn.naive_bayes import GaussianNB\n",
    "from sklearn.ensemble import RandomForestClassifier\n",
    "from xgboost import XGBClassifier\n",
    "\n",
    "from sklearn.metrics import roc_auc_score, accuracy_score, precision_score, recall_score, f1_score, r2_score\n",
    "from sklearn.model_selection import StratifiedKFold, RandomizedSearchCV\n",
    "import pickle\n",
    "\n",
    "\n",
    "sns.set(style='white', context='notebook', palette='deep')"
   ]
  },
  {
   "cell_type": "markdown",
   "metadata": {
    "_cell_guid": "bf1d51ca-c701-44dd-a305-dbbfd4bb0cec",
    "_execution_state": "idle",
    "_uuid": "161e57d369bf62b7ad27912cc4ae0116ac5de0b6",
    "collapsed": false
   },
   "source": [
    "## 2. Load Data"
   ]
  },
  {
   "cell_type": "code",
   "execution_count": 2,
   "metadata": {
    "_cell_guid": "946806b5-f230-4216-b42e-a8358e51b605",
    "_execution_state": "idle",
    "_uuid": "c4141c604b71fa95c187aa09fe7bed39106fcb1d",
    "collapsed": false
   },
   "outputs": [
    {
     "name": "stderr",
     "output_type": "stream",
     "text": [
      "C:\\Users\\benja\\AppData\\Local\\Temp\\ipykernel_19552\\319179932.py:1: ParserWarning: Falling back to the 'python' engine because the 'c' engine does not support regex separators (separators > 1 char and different from '\\s+' are interpreted as regex); you can avoid this warning by specifying engine='python'.\n",
      "  train_df = pd.read_csv(\"data/census_income/adult_data\", sep=', ')\n",
      "C:\\Users\\benja\\AppData\\Local\\Temp\\ipykernel_19552\\319179932.py:2: ParserWarning: Falling back to the 'python' engine because the 'c' engine does not support regex separators (separators > 1 char and different from '\\s+' are interpreted as regex); you can avoid this warning by specifying engine='python'.\n",
      "  test_df = pd.read_csv(\"data/census_income/adult.test\", sep=', ')\n"
     ]
    }
   ],
   "source": [
    "train_df = pd.read_csv(\"data/census_income/adult_data\", sep=', ')\n",
    "test_df = pd.read_csv(\"data/census_income/adult.test\", sep=', ')\n",
    "\n",
    "dataset = pd.concat([train_df, test_df])"
   ]
  },
  {
   "cell_type": "markdown",
   "metadata": {
    "_cell_guid": "46f46b2b-9ecc-4010-88c2-ae7872f80d8f",
    "_execution_state": "idle",
    "_uuid": "ab574da3a5eed4439cd48fe5dd6e681f01778d6e",
    "collapsed": false
   },
   "source": [
    "## Modeling"
   ]
  },
  {
   "cell_type": "code",
   "execution_count": 26,
   "metadata": {},
   "outputs": [],
   "source": [
    "dataset = dataset.sample(frac=1, random_state=42).reset_index(drop=True)\n",
    "X_train, Y_train = (\n",
    "    dataset.iloc[:32561].drop(\"income\", axis=1),\n",
    "    dataset.iloc[:32561][\"income\"],\n",
    ")\n",
    "X_test, Y_test = (\n",
    "    dataset.iloc[32561:].drop(\"income\", axis=1),\n",
    "    dataset.iloc[32561:][\"income\"],\n",
    ")"
   ]
  },
  {
   "cell_type": "code",
   "execution_count": 27,
   "metadata": {},
   "outputs": [],
   "source": [
    "X_test = pd.read_csv('data/preprocessed/X_test.csv', index=False)\n",
    "X_train = pd.read_csv('data/preprocessed/X_train.csv', index=False)\n",
    "Y_test = pd.read_csv('data/preprocessed/Y_test.csv', index=False)\n",
    "Y_train = pd.read_csv('data/preprocessed/Y_train.csv', index=False)"
   ]
  },
  {
   "cell_type": "code",
   "execution_count": 28,
   "metadata": {},
   "outputs": [],
   "source": [
    "models = [\n",
    "    (\"LR\", LogisticRegression()),\n",
    "    (\"KNN\", KNeighborsClassifier()),\n",
    "    (\"CART\", DecisionTreeClassifier()),\n",
    "    (\"NB\", GaussianNB()),\n",
    "    (\"RF\", RandomForestClassifier()),\n",
    "    (\"XGB\", XGBClassifier()),\n",
    "]\n",
    "\n",
    "param_grids = {\n",
    "\n",
    "    \"LogisticRegression\": {\n",
    "        \"C\": [0.01, 0.1, 1, 10, 100],\n",
    "        \"penalty\": [\"l1\", \"l2\"],\n",
    "        \"solver\": [\"liblinear\", \"saga\"],\n",
    "    },\n",
    "\n",
    "    \"KNeighborsClassifier\": {\n",
    "        \"n_neighbors\": [3, 5, 7, 9],\n",
    "        \"weights\": [\"uniform\", \"distance\"],\n",
    "        \"metric\": [\"euclidean\", \"manhattan\"],\n",
    "    },\n",
    "\n",
    "    \"DecisionTreeClassifier\": {\n",
    "        \"max_depth\": [3, 5, 10, None],\n",
    "        \"min_samples_split\": [2, 5, 10],\n",
    "        \"min_samples_leaf\": [1, 2, 4],\n",
    "    },\n",
    "\n",
    "    \"GaussianNB\": {\"var_smoothing\": [1e-9, 1e-8, 1e-7]},\n",
    "\n",
    "    \"RandomForestClassifier\": {\n",
    "        \"n_estimators\": [100, 200, 300],\n",
    "        \"max_features\": [2, 3, 4],\n",
    "        \"max_depth\": [None, 3, 5, 10],\n",
    "    },\n",
    "\n",
    "    \"XGBClassifier\": {\n",
    "        \"n_estimators\": [100, 200, 300],\n",
    "        \"learning_rate\": [0.01, 0.1, 0.2],\n",
    "        \"max_depth\": [3, 5, 7],\n",
    "    },\n",
    "\n",
    "}"
   ]
  },
  {
   "cell_type": "code",
   "execution_count": 31,
   "metadata": {},
   "outputs": [
    {
     "name": "stdout",
     "output_type": "stream",
     "text": [
      "Running RandomizedSearchCV for LogisticRegression\n",
      "Running RandomizedSearchCV for KNeighborsClassifier\n"
     ]
    },
    {
     "name": "stderr",
     "output_type": "stream",
     "text": [
      "c:\\ProgramData\\Anaconda3\\envs\\tabtext_py3.10\\lib\\site-packages\\sklearn\\model_selection\\_search.py:976: UserWarning: One or more of the test scores are non-finite: [       nan        nan 0.83891171        nan 0.87521732 0.84298527\n",
      "        nan        nan        nan 0.87135311]\n",
      "  warnings.warn(\n"
     ]
    },
    {
     "name": "stdout",
     "output_type": "stream",
     "text": [
      "Running RandomizedSearchCV for DecisionTreeClassifier\n",
      "Running RandomizedSearchCV for GaussianNB\n"
     ]
    },
    {
     "name": "stderr",
     "output_type": "stream",
     "text": [
      "c:\\ProgramData\\Anaconda3\\envs\\tabtext_py3.10\\lib\\site-packages\\sklearn\\model_selection\\_search.py:307: UserWarning: The total space of parameters 3 is smaller than n_iter=10. Running 3 iterations. For exhaustive searches, use GridSearchCV.\n",
      "  warnings.warn(\n"
     ]
    },
    {
     "name": "stdout",
     "output_type": "stream",
     "text": [
      "Running RandomizedSearchCV for RandomForestClassifier\n"
     ]
    },
    {
     "name": "stderr",
     "output_type": "stream",
     "text": [
      "c:\\ProgramData\\Anaconda3\\envs\\tabtext_py3.10\\lib\\site-packages\\sklearn\\model_selection\\_validation.py:425: FitFailedWarning: \n",
      "25 fits failed out of a total of 50.\n",
      "The score on these train-test partitions for these parameters will be set to nan.\n",
      "If these failures are not expected, you can try to debug them by setting error_score='raise'.\n",
      "\n",
      "Below are more details about the failures:\n",
      "--------------------------------------------------------------------------------\n",
      "9 fits failed with the following error:\n",
      "Traceback (most recent call last):\n",
      "  File \"c:\\ProgramData\\Anaconda3\\envs\\tabtext_py3.10\\lib\\site-packages\\sklearn\\model_selection\\_validation.py\", line 732, in _fit_and_score\n",
      "    estimator.fit(X_train, y_train, **fit_params)\n",
      "  File \"c:\\ProgramData\\Anaconda3\\envs\\tabtext_py3.10\\lib\\site-packages\\sklearn\\base.py\", line 1144, in wrapper\n",
      "    estimator._validate_params()\n",
      "  File \"c:\\ProgramData\\Anaconda3\\envs\\tabtext_py3.10\\lib\\site-packages\\sklearn\\base.py\", line 637, in _validate_params\n",
      "    validate_parameter_constraints(\n",
      "  File \"c:\\ProgramData\\Anaconda3\\envs\\tabtext_py3.10\\lib\\site-packages\\sklearn\\utils\\_param_validation.py\", line 95, in validate_parameter_constraints\n",
      "    raise InvalidParameterError(\n",
      "sklearn.utils._param_validation.InvalidParameterError: The 'max_features' parameter of RandomForestClassifier must be an int in the range [1, inf), a float in the range (0.0, 1.0], a str among {'sqrt', 'log2'} or None. Got 'auto' instead.\n",
      "\n",
      "--------------------------------------------------------------------------------\n",
      "16 fits failed with the following error:\n",
      "Traceback (most recent call last):\n",
      "  File \"c:\\ProgramData\\Anaconda3\\envs\\tabtext_py3.10\\lib\\site-packages\\sklearn\\model_selection\\_validation.py\", line 732, in _fit_and_score\n",
      "    estimator.fit(X_train, y_train, **fit_params)\n",
      "  File \"c:\\ProgramData\\Anaconda3\\envs\\tabtext_py3.10\\lib\\site-packages\\sklearn\\base.py\", line 1144, in wrapper\n",
      "    estimator._validate_params()\n",
      "  File \"c:\\ProgramData\\Anaconda3\\envs\\tabtext_py3.10\\lib\\site-packages\\sklearn\\base.py\", line 637, in _validate_params\n",
      "    validate_parameter_constraints(\n",
      "  File \"c:\\ProgramData\\Anaconda3\\envs\\tabtext_py3.10\\lib\\site-packages\\sklearn\\utils\\_param_validation.py\", line 95, in validate_parameter_constraints\n",
      "    raise InvalidParameterError(\n",
      "sklearn.utils._param_validation.InvalidParameterError: The 'max_features' parameter of RandomForestClassifier must be an int in the range [1, inf), a float in the range (0.0, 1.0], a str among {'log2', 'sqrt'} or None. Got 'auto' instead.\n",
      "\n",
      "  warnings.warn(some_fits_failed_message, FitFailedWarning)\n",
      "c:\\ProgramData\\Anaconda3\\envs\\tabtext_py3.10\\lib\\site-packages\\sklearn\\model_selection\\_search.py:976: UserWarning: One or more of the test scores are non-finite: [0.8837504         nan 0.89997024        nan 0.89451903 0.8870812\n",
      "        nan        nan 0.8949441         nan]\n",
      "  warnings.warn(\n"
     ]
    },
    {
     "name": "stdout",
     "output_type": "stream",
     "text": [
      "Running RandomizedSearchCV for XGBClassifier\n"
     ]
    },
    {
     "name": "stderr",
     "output_type": "stream",
     "text": [
      "c:\\ProgramData\\Anaconda3\\envs\\tabtext_py3.10\\lib\\site-packages\\xgboost\\data.py:299: FutureWarning: is_sparse is deprecated and will be removed in a future version. Check `isinstance(dtype, pd.SparseDtype)` instead.\n",
      "  if is_sparse(dtype):\n",
      "c:\\ProgramData\\Anaconda3\\envs\\tabtext_py3.10\\lib\\site-packages\\xgboost\\data.py:301: FutureWarning: is_categorical_dtype is deprecated and will be removed in a future version. Use isinstance(dtype, CategoricalDtype) instead\n",
      "  elif is_categorical_dtype(dtype) and enable_categorical:\n",
      "c:\\ProgramData\\Anaconda3\\envs\\tabtext_py3.10\\lib\\site-packages\\xgboost\\data.py:332: FutureWarning: is_categorical_dtype is deprecated and will be removed in a future version. Use isinstance(dtype, CategoricalDtype) instead\n",
      "  if is_categorical_dtype(dtype)\n",
      "c:\\ProgramData\\Anaconda3\\envs\\tabtext_py3.10\\lib\\site-packages\\xgboost\\data.py:323: FutureWarning: is_categorical_dtype is deprecated and will be removed in a future version. Use isinstance(dtype, CategoricalDtype) instead\n",
      "  return is_int or is_bool or is_float or is_categorical_dtype(dtype)\n",
      "c:\\ProgramData\\Anaconda3\\envs\\tabtext_py3.10\\lib\\site-packages\\xgboost\\data.py:427: FutureWarning: is_sparse is deprecated and will be removed in a future version. Check `isinstance(dtype, pd.SparseDtype)` instead.\n",
      "  if is_sparse(data):\n"
     ]
    }
   ],
   "source": [
    "#cell runs in 2min15\n",
    "skf = StratifiedKFold(n_splits=5)\n",
    "searches = {}\n",
    "SCORING_METRIC = \"roc_auc\"\n",
    "for name, model in models:\n",
    "    print(f\"Running RandomizedSearchCV for {model.__class__.__name__}\")\n",
    "    search = RandomizedSearchCV(\n",
    "        model,\n",
    "        param_grids[model.__class__.__name__],\n",
    "        cv=skf.split(X_train, Y_train),\n",
    "        scoring=SCORING_METRIC,\n",
    "        n_jobs=-1,\n",
    "        )\n",
    "    search.fit(X_train, Y_train)\n",
    "    searches[name] = search\n",
    "    with open(f\"models/{name}.pkl\", \"wb\") as f:\n",
    "        pickle.dump(search.best_estimator_, f)"
   ]
  },
  {
   "cell_type": "code",
   "execution_count": 32,
   "metadata": {},
   "outputs": [],
   "source": [
    "def find_best_threshold(y_true, y_prob):\n",
    "    best_threshold = 0.5\n",
    "    best_score = 0\n",
    "    for threshold in np.arange(0.1, 0.9, 0.001):\n",
    "        score = f1_score(y_true, y_prob >= threshold)\n",
    "        if score > best_score:\n",
    "            best_score = score\n",
    "            best_threshold = threshold\n",
    "    return best_threshold\n"
   ]
  },
  {
   "cell_type": "code",
   "execution_count": 33,
   "metadata": {},
   "outputs": [
    {
     "name": "stderr",
     "output_type": "stream",
     "text": [
      "c:\\ProgramData\\Anaconda3\\envs\\tabtext_py3.10\\lib\\site-packages\\sklearn\\base.py:464: UserWarning: X does not have valid feature names, but LogisticRegression was fitted with feature names\n",
      "  warnings.warn(\n",
      "c:\\ProgramData\\Anaconda3\\envs\\tabtext_py3.10\\lib\\site-packages\\sklearn\\base.py:464: UserWarning: X does not have valid feature names, but LogisticRegression was fitted with feature names\n",
      "  warnings.warn(\n",
      "c:\\ProgramData\\Anaconda3\\envs\\tabtext_py3.10\\lib\\site-packages\\sklearn\\base.py:464: UserWarning: X does not have valid feature names, but KNeighborsClassifier was fitted with feature names\n",
      "  warnings.warn(\n"
     ]
    },
    {
     "name": "stdout",
     "output_type": "stream",
     "text": [
      "LR: Best Threshold 0.35 - Accuracy 0.8373 - AUC 0.8008\n"
     ]
    },
    {
     "name": "stderr",
     "output_type": "stream",
     "text": [
      "c:\\ProgramData\\Anaconda3\\envs\\tabtext_py3.10\\lib\\site-packages\\sklearn\\base.py:464: UserWarning: X does not have valid feature names, but KNeighborsClassifier was fitted with feature names\n",
      "  warnings.warn(\n"
     ]
    },
    {
     "name": "stdout",
     "output_type": "stream",
     "text": [
      "KNN: Best Threshold 0.45 - Accuracy 0.8431 - AUC 0.7889\n"
     ]
    },
    {
     "name": "stderr",
     "output_type": "stream",
     "text": [
      "c:\\ProgramData\\Anaconda3\\envs\\tabtext_py3.10\\lib\\site-packages\\sklearn\\base.py:464: UserWarning: X does not have valid feature names, but DecisionTreeClassifier was fitted with feature names\n",
      "  warnings.warn(\n",
      "c:\\ProgramData\\Anaconda3\\envs\\tabtext_py3.10\\lib\\site-packages\\sklearn\\base.py:464: UserWarning: X does not have valid feature names, but DecisionTreeClassifier was fitted with feature names\n",
      "  warnings.warn(\n",
      "c:\\ProgramData\\Anaconda3\\envs\\tabtext_py3.10\\lib\\site-packages\\sklearn\\base.py:464: UserWarning: X does not have valid feature names, but GaussianNB was fitted with feature names\n",
      "  warnings.warn(\n"
     ]
    },
    {
     "name": "stdout",
     "output_type": "stream",
     "text": [
      "CART: Best Threshold 0.33 - Accuracy 0.8433 - AUC 0.7953\n"
     ]
    },
    {
     "name": "stderr",
     "output_type": "stream",
     "text": [
      "c:\\ProgramData\\Anaconda3\\envs\\tabtext_py3.10\\lib\\site-packages\\sklearn\\base.py:464: UserWarning: X does not have valid feature names, but GaussianNB was fitted with feature names\n",
      "  warnings.warn(\n",
      "c:\\ProgramData\\Anaconda3\\envs\\tabtext_py3.10\\lib\\site-packages\\sklearn\\base.py:464: UserWarning: X does not have valid feature names, but RandomForestClassifier was fitted with feature names\n",
      "  warnings.warn(\n"
     ]
    },
    {
     "name": "stdout",
     "output_type": "stream",
     "text": [
      "NB: Best Threshold 0.28 - Accuracy 0.8150 - AUC 0.7961\n"
     ]
    },
    {
     "name": "stderr",
     "output_type": "stream",
     "text": [
      "c:\\ProgramData\\Anaconda3\\envs\\tabtext_py3.10\\lib\\site-packages\\sklearn\\base.py:464: UserWarning: X does not have valid feature names, but RandomForestClassifier was fitted with feature names\n",
      "  warnings.warn(\n"
     ]
    },
    {
     "name": "stdout",
     "output_type": "stream",
     "text": [
      "RF: Best Threshold 0.29 - Accuracy 0.8174 - AUC 0.7997\n",
      "XGB: Best Threshold 0.36 - Accuracy 0.8606 - AUC 0.8243\n"
     ]
    }
   ],
   "source": [
    "# cell runs in 1min50\n",
    "names = []\n",
    "accuracies = []\n",
    "aucs = []\n",
    "precisions = []\n",
    "recalls = []\n",
    "best_thresholds = []\n",
    "scores =[]\n",
    "r2s = []\n",
    "for name, search in searches.items():\n",
    "    model = search.best_estimator_\n",
    "    probas = model.predict_proba(X_train.values)[:, 1]\n",
    "    best_threshold = find_best_threshold(Y_train, probas) # for f1\n",
    "\n",
    "    # metrics on test set\n",
    "    preds = (model.predict_proba(X_test.values)[:, 1] >= best_threshold).astype(int)\n",
    "\n",
    "    auc = roc_auc_score(Y_test, preds)\n",
    "    accuracy = accuracy_score(Y_test, preds)\n",
    "    precision = precision_score(Y_test, preds)\n",
    "    recall = recall_score(Y_test, preds)\n",
    "    r2 = r2_score(Y_test, preds)\n",
    "\n",
    "    names.append(name)\n",
    "    aucs.append(auc)\n",
    "    accuracies.append(accuracy)\n",
    "    precisions.append(precision)\n",
    "    recalls.append(recall)\n",
    "    r2s.append(r2)\n",
    "    scores.append(search.best_score_)\n",
    "    best_thresholds.append(best_threshold)\n",
    "\n",
    "    msg = f\"{name}: Best Threshold {best_threshold:.2f} - Accuracy {accuracy:.4f} - AUC {auc:.4f}\"\n",
    "    print(msg)"
   ]
  },
  {
   "cell_type": "code",
   "execution_count": 34,
   "metadata": {},
   "outputs": [
    {
     "data": {
      "text/html": [
       "<div>\n",
       "<style scoped>\n",
       "    .dataframe tbody tr th:only-of-type {\n",
       "        vertical-align: middle;\n",
       "    }\n",
       "\n",
       "    .dataframe tbody tr th {\n",
       "        vertical-align: top;\n",
       "    }\n",
       "\n",
       "    .dataframe thead th {\n",
       "        text-align: right;\n",
       "    }\n",
       "</style>\n",
       "<table border=\"1\" class=\"dataframe\">\n",
       "  <thead>\n",
       "    <tr style=\"text-align: right;\">\n",
       "      <th></th>\n",
       "      <th>LR</th>\n",
       "      <th>KNN</th>\n",
       "      <th>CART</th>\n",
       "      <th>NB</th>\n",
       "      <th>RF</th>\n",
       "      <th>XGB</th>\n",
       "      <th>Best Value</th>\n",
       "      <th>Best Model</th>\n",
       "    </tr>\n",
       "  </thead>\n",
       "  <tbody>\n",
       "    <tr>\n",
       "      <th>Accuracy</th>\n",
       "      <td>0.837295</td>\n",
       "      <td>0.843130</td>\n",
       "      <td>0.843314</td>\n",
       "      <td>0.814999</td>\n",
       "      <td>0.817395</td>\n",
       "      <td>0.860635</td>\n",
       "      <td>0.860635</td>\n",
       "      <td>XGB</td>\n",
       "    </tr>\n",
       "    <tr>\n",
       "      <th>AUC</th>\n",
       "      <td>0.800765</td>\n",
       "      <td>0.788875</td>\n",
       "      <td>0.795258</td>\n",
       "      <td>0.796093</td>\n",
       "      <td>0.799655</td>\n",
       "      <td>0.824272</td>\n",
       "      <td>0.824272</td>\n",
       "      <td>XGB</td>\n",
       "    </tr>\n",
       "    <tr>\n",
       "      <th>Precision</th>\n",
       "      <td>0.632436</td>\n",
       "      <td>0.659045</td>\n",
       "      <td>0.654192</td>\n",
       "      <td>0.580768</td>\n",
       "      <td>0.584582</td>\n",
       "      <td>0.683637</td>\n",
       "      <td>0.683637</td>\n",
       "      <td>XGB</td>\n",
       "    </tr>\n",
       "    <tr>\n",
       "      <th>Recall</th>\n",
       "      <td>0.731937</td>\n",
       "      <td>0.686649</td>\n",
       "      <td>0.704712</td>\n",
       "      <td>0.760471</td>\n",
       "      <td>0.766230</td>\n",
       "      <td>0.755759</td>\n",
       "      <td>0.766230</td>\n",
       "      <td>RF</td>\n",
       "    </tr>\n",
       "    <tr>\n",
       "      <th>R2</th>\n",
       "      <td>0.093961</td>\n",
       "      <td>0.126454</td>\n",
       "      <td>0.127480</td>\n",
       "      <td>-0.030196</td>\n",
       "      <td>-0.016857</td>\n",
       "      <td>0.223933</td>\n",
       "      <td>0.223933</td>\n",
       "      <td>XGB</td>\n",
       "    </tr>\n",
       "    <tr>\n",
       "      <th>Training score</th>\n",
       "      <td>0.905705</td>\n",
       "      <td>0.875217</td>\n",
       "      <td>0.900072</td>\n",
       "      <td>0.891805</td>\n",
       "      <td>0.899970</td>\n",
       "      <td>0.929102</td>\n",
       "      <td>0.929102</td>\n",
       "      <td>XGB</td>\n",
       "    </tr>\n",
       "  </tbody>\n",
       "</table>\n",
       "</div>"
      ],
      "text/plain": [
       "                      LR       KNN      CART        NB        RF       XGB  \\\n",
       "Accuracy        0.837295  0.843130  0.843314  0.814999  0.817395  0.860635   \n",
       "AUC             0.800765  0.788875  0.795258  0.796093  0.799655  0.824272   \n",
       "Precision       0.632436  0.659045  0.654192  0.580768  0.584582  0.683637   \n",
       "Recall          0.731937  0.686649  0.704712  0.760471  0.766230  0.755759   \n",
       "R2              0.093961  0.126454  0.127480 -0.030196 -0.016857  0.223933   \n",
       "Training score  0.905705  0.875217  0.900072  0.891805  0.899970  0.929102   \n",
       "\n",
       "                Best Value Best Model  \n",
       "Accuracy          0.860635        XGB  \n",
       "AUC               0.824272        XGB  \n",
       "Precision         0.683637        XGB  \n",
       "Recall            0.766230         RF  \n",
       "R2                0.223933        XGB  \n",
       "Training score    0.929102        XGB  "
      ]
     },
     "execution_count": 34,
     "metadata": {},
     "output_type": "execute_result"
    }
   ],
   "source": [
    "metrics = pd.DataFrame(\n",
    "    {\n",
    "        #\"Best threshold\": best_thresholds,\n",
    "        \"Accuracy\": accuracies,\n",
    "        \"AUC\": aucs,\n",
    "        \"Precision\": precisions,\n",
    "        \"Recall\": recalls,\n",
    "        \"R2\": r2s,\n",
    "        \"Training score\": scores,\n",
    "    },\n",
    "    index=names,\n",
    ").transpose()\n",
    "metrics[\"Best Value\"] = metrics.max(axis=1)\n",
    "metrics[\"Best Model\"] = metrics.idxmax(axis=1)\n",
    "metrics"
   ]
  },
  {
   "cell_type": "code",
   "execution_count": 38,
   "metadata": {},
   "outputs": [],
   "source": [
    "params = {}\n",
    "for name, search in searches.items():\n",
    "    params[name] = search.best_params_\n",
    "with open(f\"models/params.pkl\", \"wb\") as f:\n",
    "        pickle.dump(params, f)"
   ]
  },
  {
   "cell_type": "markdown",
   "metadata": {},
   "source": [
    "## Appendix"
   ]
  },
  {
   "cell_type": "code",
   "execution_count": 161,
   "metadata": {},
   "outputs": [
    {
     "data": {
      "text/plain": [
       "<matplotlib.legend.Legend at 0x1b22a2490f0>"
      ]
     },
     "execution_count": 161,
     "metadata": {},
     "output_type": "execute_result"
    },
    {
     "data": {
      "image/png": "[encoded data removed]",
      "text/plain": [
       "<Figure size 640x480 with 1 Axes>"
      ]
     },
     "metadata": {},
     "output_type": "display_data"
    }
   ],
   "source": [
    "\n",
    "plt.plot([0, 1], [0, 1], linestyle=\"--\", color=\"red\", alpha=0.8, label=\"Random Classifier\")\n",
    "plt.plot(fpr, tpr, alpha=0.8, label=\"Logistic Regression\")\n",
    "fpr, tpr, thresholds = metrics.roc_curve(Y_train, preds)\n",
    "J = tpr - fpr\n",
    "ix = np.argmax(J)\n",
    "best_thresh = thresholds[ix]\n",
    "plt.scatter(\n",
    "    fpr[ix], tpr[ix], marker=\"o\", color=\"black\", alpha=0.8, label=f\"Best threshold: {best_thresh:.2f}\"\n",
    ")\n",
    "plt.xlabel(\"False Positive Rate\")\n",
    "plt.ylabel(\"True Positive Rate\")\n",
    "plt.title(\"ROC Curve for Logistic Regression\")\n",
    "plt.legend()"
   ]
  },
  {
   "cell_type": "code",
   "execution_count": 163,
   "metadata": {},
   "outputs": [
    {
     "name": "stderr",
     "output_type": "stream",
     "text": [
      "c:\\ProgramData\\Anaconda3\\envs\\tabtext_py3.10\\lib\\site-packages\\sklearn\\base.py:464: UserWarning: X does not have valid feature names, but LogisticRegression was fitted with feature names\n",
      "  warnings.warn(\n"
     ]
    }
   ],
   "source": [
    "LR_best = estimators[\"LR\"].best_estimator_\n",
    "preds = LR_best.predict_proba(X_train.values)[:, 1]\n",
    "best_threshold = find_best_threshold(Y_train, preds)"
   ]
  },
  {
   "cell_type": "code",
   "execution_count": 22,
   "metadata": {},
   "outputs": [
    {
     "name": "stdout",
     "output_type": "stream",
     "text": [
      "No stratification:\n",
      "Train [19909  6139] - Test [4933 1580]\n",
      "Train [19922  6127] - Test [4920 1592]\n",
      "Train [19863  6186] - Test [4979 1533]\n",
      "Train [19871  6178] - Test [4971 1541]\n",
      "Train [19803  6246] - Test [5039 1473]\n",
      "\n",
      "With stratification:\n",
      "Train [19873  6175] - Test [4969 1544]\n",
      "Train [19874  6175] - Test [4968 1544]\n",
      "Train [19874  6175] - Test [4968 1544]\n",
      "Train [19874  6175] - Test [4968 1544]\n",
      "Train [19873  6176] - Test [4969 1543]\n"
     ]
    }
   ],
   "source": [
    "from sklearn.model_selection import StratifiedKFold, KFold\n",
    "\n",
    "kf = KFold(n_splits=5, shuffle=False)\n",
    "print(\"No stratification:\")\n",
    "for train, test in kf.split(X_train, Y_train):\n",
    "    print(f\"Train {np.bincount(Y_train[train])} - Test {np.bincount(Y_train[test])}\")\n",
    "\n",
    "print(\"\\nWith stratification:\")\n",
    "skf = StratifiedKFold(n_splits=5).split(X_train, Y_train)\n",
    "for train, test in skf.split(X_train, Y_train):\n",
    "    print(f\"Train {np.bincount(Y_train[train])} - Test {np.bincount(Y_train[test])}\")"
   ]
  }
 ],
 "metadata": {
  "kernelspec": {
   "display_name": "Python 3",
   "language": "python",
   "name": "python3"
  },
  "language_info": {
   "codemirror_mode": {
    "name": "ipython",
    "version": 3
   },
   "file_extension": ".py",
   "mimetype": "text/x-python",
   "name": "python",
   "nbconvert_exporter": "python",
   "pygments_lexer": "ipython3",
   "version": "3.10.13"
  }
 },
 "nbformat": 4,
 "nbformat_minor": 0
}
